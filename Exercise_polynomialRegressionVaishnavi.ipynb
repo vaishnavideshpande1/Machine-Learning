{
 "cells": [
  {
   "cell_type": "markdown",
   "metadata": {},
   "source": [
    "# Exercise: Polynomial Regression and KNN\n"
   ]
  },
  {
   "cell_type": "markdown",
   "metadata": {},
   "source": [
    "A) Use the Auto dataset, find the $R^2$ score of a linear regression model that predicts the miles per gallon (mpg) from the horsepower.\n",
    "\n",
    "Hints:\n",
    "\n",
    "    Create model object using: model=LinearRegression()\n",
    "\n",
    "    Fit the model: fitted_model=model.fit(X_train,Y_train)\n",
    "\n",
    "    Find the R squared metric using: fitted_model.score(X_test,Y_test)\n"
   ]
  },
  {
   "cell_type": "code",
   "execution_count": 1,
   "metadata": {},
   "outputs": [
    {
     "name": "stdout",
     "output_type": "stream",
     "text": [
      "R squared of linear regression is: 0.62176588114\n"
     ]
    },
    {
     "data": {
      "image/png": "[encoded data removed]",
      "text/plain": [
       "<matplotlib.figure.Figure at 0x2b07c4cba58>"
      ]
     },
     "metadata": {},
     "output_type": "display_data"
    }
   ],
   "source": [
    "%matplotlib inline\n",
    "import matplotlib.pyplot as plt\n",
    "from pandas import read_csv\n",
    "from sklearn.linear_model import LinearRegression\n",
    "from sklearn.model_selection import train_test_split\n",
    "import numpy \n",
    "\n",
    "AutoData=read_csv('Auto_modify.csv') # read the data\n",
    "\n",
    "X_auto_hp=AutoData.horsepower.values.reshape(-1,1) # define features: horsepower \n",
    "Y_auto_mpg=AutoData.mpg.values.reshape(-1,1) # define label: miles per gallon\n",
    "\n",
    "#ploting the data points\n",
    "plt.figure(figsize=(10,10))\n",
    "plt.scatter(X_auto_hp, Y_auto_mpg, marker= 'o')\n",
    "plt.xlabel('Horsepower (x)')\n",
    "plt.ylabel('Miles per gallon (y)')\n",
    "\n",
    "#Split to train and test\n",
    "X_train, X_test, Y_train, Y_test= train_test_split(X_auto_hp, Y_auto_mpg, random_state= 0)\n",
    "\n",
    "# continue your code here\n",
    "model=LinearRegression()\n",
    "fitted_model=model.fit(X_train,Y_train)\n",
    "fitted_model2=fitted_model.score(X_test,Y_test)\n",
    "print('R squared of linear regression is:',fitted_model2)\n",
    "\n",
    "    \n",
    "\n"
   ]
  },
  {
   "cell_type": "markdown",
   "metadata": {},
   "source": [
    "B) Use polynomial regression to include both the horsepower feature and $(horsepower)^2$ in the regression model. Find the $R^2$ metric. \n",
    "\n",
    "Hint: You can use [numpy.concatenate](https://docs.scipy.org/doc/numpy-1.13.0/reference/generated/numpy.concatenate.html). For example to add to an array U a column vector $W^2$, we can use X=np.concatenate((U,W**2),axis=1)\n",
    "\n",
    "\n",
    "C) Optional: repeat (B) increase the degree of the polynomial to 3,then 4, then 5 and check the accuracy in each case.\n"
   ]
  },
  {
   "cell_type": "code",
   "execution_count": 8,
   "metadata": {},
   "outputs": [
    {
     "name": "stdout",
     "output_type": "stream",
     "text": [
      "R^2 of linear regression with scaling is: 0.693284770601 for polynomial of degree 2\n"
     ]
    },
    {
     "name": "stderr",
     "output_type": "stream",
     "text": [
      "C:\\Users\\rvais\\Anaconda3\\lib\\site-packages\\sklearn\\utils\\validation.py:429: DataConversionWarning: Data with input dtype int64 was converted to float64 by MinMaxScaler.\n",
      "  warnings.warn(msg, _DataConversionWarning)\n"
     ]
    }
   ],
   "source": [
    "%matplotlib inline \n",
    "import matplotlib.pyplot as plt;\n",
    "from sklearn import preprocessing;\n",
    "from pandas import read_csv\n",
    "from sklearn.linear_model import LinearRegression;\n",
    "from sklearn.model_selection import train_test_split\n",
    "import numpy as np\n",
    "AutoData=read_csv('Auto_modify.csv')\n",
    "X_auto_hp=AutoData.horsepower.values.reshape(-1,1)\n",
    "Y_auto_mpg=AutoData.mpg.values.reshape(-1,1)\n",
    "Automodel1=LinearRegression()\n",
    "X=X_auto_hp \n",
    "X=np.concatenate((X,X_auto_hp**2),axis=1)\n",
    "X_train,X_test,Y_train,Y_test=train_test_split(X,Y_auto_mpg,random_state=1)\n",
    "scaler=preprocessing.MinMaxScaler().fit(X_train);\n",
    "X_train_transformed=scaler.transform(X_train)\n",
    "X_test_transformed=scaler.transform(X_test)\n",
    "Autofittedmodel1=Automodel1.fit(X_train_transformed,Y_train)\n",
    "R2AutoHPPolyscale=Autofittedmodel1.score(X_test_transformed,Y_test)\n",
    "print('R^2 of linear regression with scaling is:',R2AutoHPPolyscale,'for polynomial of degree',2)\n",
    "    "
   ]
  },
  {
   "cell_type": "code",
   "execution_count": 6,
   "metadata": {},
   "outputs": [
    {
     "name": "stdout",
     "output_type": "stream",
     "text": [
      "R^2 of linear regression with scaling is: 0.596002237883 for polynomial of degree 1\n",
      "R^2 of linear regression with scaling is: 0.693284770601 for polynomial of degree 2\n",
      "R^2 of linear regression with scaling is: 0.693234080261 for polynomial of degree 3\n",
      "R^2 of linear regression with scaling is: 0.69517521054 for polynomial of degree 4\n",
      "R^2 of linear regression with scaling is: 0.695897849881 for polynomial of degree 5\n"
     ]
    },
    {
     "name": "stderr",
     "output_type": "stream",
     "text": [
      "C:\\Users\\rvais\\Anaconda3\\lib\\site-packages\\sklearn\\utils\\validation.py:429: DataConversionWarning: Data with input dtype int64 was converted to float64 by MinMaxScaler.\n",
      "  warnings.warn(msg, _DataConversionWarning)\n"
     ]
    }
   ],
   "source": [
    "# write code here\n",
    "%matplotlib inline \n",
    "import matplotlib.pyplot as plt;\n",
    "from sklearn import preprocessing;\n",
    "from pandas import read_csv\n",
    "from sklearn.linear_model import LinearRegression;\n",
    "from sklearn.model_selection import train_test_split\n",
    "import numpy as np\n",
    "AutoData=read_csv('Auto_modify.csv')\n",
    "X_auto_hp=AutoData.horsepower.values.reshape(-1,1)\n",
    "Y_auto_mpg=AutoData.mpg.values.reshape(-1,1)\n",
    "Automodel1=LinearRegression()\n",
    "X=X_auto_hp \n",
    "for pow in[1,2,3,4,5]:\n",
    "    if pow>1:\n",
    "        X=np.concatenate((X,X_auto_hp**pow),axis=1)\n",
    "    X_train,X_test,Y_train,Y_test=train_test_split(X,Y_auto_mpg,random_state=1)\n",
    "    scaler=preprocessing.MinMaxScaler().fit(X_train);\n",
    "    X_train_transformed=scaler.transform(X_train)\n",
    "    X_test_transformed=scaler.transform(X_test)\n",
    "\n",
    "    Autofittedmodel1=Automodel1.fit(X_train_transformed,Y_train)\n",
    "    R2AutoHPPolyscale=Autofittedmodel1.score(X_test_transformed,Y_test)\n",
    "    print('R^2 of linear regression with scaling is:',R2AutoHPPolyscale,'for polynomial of degree',pow)\n",
    "    \n"
   ]
  },
  {
   "cell_type": "code",
   "execution_count": 24,
   "metadata": {},
   "outputs": [
    {
     "name": "stdout",
     "output_type": "stream",
     "text": [
      "0.727103150464\n"
     ]
    }
   ],
   "source": [
    "#Problem: B\n",
    "from pandas import read_csv\n",
    "from sklearn.linear_model import LinearRegression\n",
    "from sklearn.model_selection import train_test_split\n",
    "AutoData=read_csv('Auto_modify.csv')\n",
    "import numpy as np\n",
    "import pandas as pd\n",
    "hp=AutoData.horsepower\n",
    "hp2=hp*hp\n",
    "hp=hp.tolist()\n",
    "hp2=hp2.tolist()\n",
    "mpg=AutoData.mpg.tolist()\n",
    "xdf = pd.DataFrame({'horsepower': hp, 'horsepower2': hp2, 'mpg':mpg})\n",
    "X = xdf[['horsepower', 'horsepower2']].values\n",
    "Y = xdf.mpg\n",
    "#print(X)\n",
    "X_train, X_test, Y_train, Y_test= train_test_split(X, Y, random_state= 0)\n",
    "linreg= LinearRegression().fit(X_train, Y_train)\n",
    "R2 = linreg.score(X_test,Y_test)\n",
    "print(R2)"
   ]
  },
  {
   "cell_type": "markdown",
   "metadata": {},
   "source": [
    "D) Use KNN regression to predict the miles per gallon(mpg) with K=7, and find $R^2$ metric in the following cases \n",
    "\n",
    "- One feature: Horsepower only\n",
    "\n",
    "- Two features: horsepower and (horsepower)2 \n",
    "\n",
    "Hint: \n",
    "\n",
    "    Create KNN regression object using neighbors.KNeighborsRegressor:\n",
    "\n",
    "    knnRegression = neighbors.KNeighborsRegressor(n_neighbors=7)\n",
    "\n",
    "    Use the .fit and .score methods as before\n",
    "\n",
    "E) COMMENT on your results: which model performs better? How does performance change when adding the quadratic feature?\n"
   ]
  },
  {
   "cell_type": "code",
   "execution_count": 14,
   "metadata": {},
   "outputs": [
    {
     "name": "stdout",
     "output_type": "stream",
     "text": [
      "The score for KNN model with one feature horsepower is  0.667477744171\n"
     ]
    }
   ],
   "source": [
    "from sklearn import neighbors\n",
    "X_auto_hp=AutoData.horsepower.values.reshape(-1,1) # define features: horsepower \n",
    "Y_auto_mpg=AutoData.mpg.values.reshape(-1,1)\n",
    "X_train, X_test, Y_train, Y_test= train_test_split(X_auto_hp, Y_auto_mpg, random_state= 0)\n",
    "##X_train1, X_test1, Y_train1, Y_test1= train_test_split(X, Y_auto_mpg, random_state= 0)\n",
    "knn_model = neighbors.KNeighborsRegressor(n_neighbors =7)\n",
    "knn_model.fit(X_train, Y_train)\n",
    "KNNfeature=knn_model.score(X_test, Y_test) \n",
    "print(\"The score for KNN model with one feature horsepower is \",KNNfeature)\n"
   ]
  },
  {
   "cell_type": "code",
   "execution_count": 20,
   "metadata": {},
   "outputs": [
    {
     "name": "stdout",
     "output_type": "stream",
     "text": [
      "The score for KNN model with one feature horsepower is  0.670108404882\n"
     ]
    }
   ],
   "source": [
    "from sklearn import neighbors\n",
    "X = np.concatenate((X_auto_hp,X_auto_hp**2),axis=1)\n",
    "X_train, X_test, Y_train, Y_test= train_test_split(X, Y_auto_mpg, random_state= 0)\n",
    "knn_model = neighbors.KNeighborsRegressor(n_neighbors =7)\n",
    "knn_model.fit(X_train, Y_train)\n",
    "KNNfeature=knn_model.score(X_test, Y_test) \n",
    "print(\"The score for KNN model with one feature horsepower is \",KNNfeature)"
   ]
  },
  {
   "cell_type": "code",
   "execution_count": null,
   "metadata": {
    "collapsed": true
   },
   "outputs": [],
   "source": [
    "##larger values of K provide a smoother and less variable fit\n",
    "##Horsepower of KNN is better than linear regression model\n",
    "##When non-linear terms are added ,Linear regression performs better\n",
    "## Adding a quadratic feature to linear regression model improves the performance\n"
   ]
  }
 ],
 "metadata": {
  "kernelspec": {
   "display_name": "Python 3",
   "language": "python",
   "name": "python3"
  },
  "language_info": {
   "codemirror_mode": {
    "name": "ipython",
    "version": 3
   },
   "file_extension": ".py",
   "mimetype": "text/x-python",
   "name": "python",
   "nbconvert_exporter": "python",
   "pygments_lexer": "ipython3",
   "version": "3.6.1"
  }
 },
 "nbformat": 4,
 "nbformat_minor": 2
}
