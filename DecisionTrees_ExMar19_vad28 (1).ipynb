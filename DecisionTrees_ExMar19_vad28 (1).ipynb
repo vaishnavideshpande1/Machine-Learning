{
 "cells": [
  {
   "cell_type": "markdown",
   "metadata": {},
   "source": [
    "# Exercise: Decision Trees & Combining Methods\n",
    "\n",
    "In this exercise we will use decision trees and neural networks for classification of Iris species (Setosa, Versicolor, Virginica). For use random_state=0 for splitting and building all models.\n",
    "\n",
    "1) Fit decision tree with maximum depth (max_depth) of 2 and the default gini index for building the tree. Find the classification accuracy. \n",
    "You can visualize the tree using:\n",
    "\n",
    "       from sklearn.tree import export_graphviz\n",
    "\n",
    "       import graphviz \n",
    "\n",
    "       dot_data=export_graphviz(FittedTreeModel,class_names=iris_dataset.target_names,    feature_names=iris_dataset.feature_names,out_file=None)\n",
    "\n",
    "       graph = graphviz.Source(dot_data)  \n",
    "\n",
    "       graph \n",
    "\n",
    "2) Use random forests that combines 4 trees, each of maximum depth 2 and maximum number of features considered at each split is 2. What is the classification accuracy?\n",
    "\n",
    "3) Use AdaBoost with 4 trees to perform the classification. What is the accuracy? Comment on results\n",
    "\n",
    "\n"
   ]
  },
  {
   "cell_type": "code",
   "execution_count": 1,
   "metadata": {
    "collapsed": true
   },
   "outputs": [],
   "source": [
    "%matplotlib inline\n",
    "from sklearn.datasets import load_iris\n",
    "import numpy as np\n",
    "from sklearn.preprocessing import MinMaxScaler \n",
    "from sklearn.model_selection import train_test_split\n",
    "from sklearn.tree import DecisionTreeClassifier\n",
    "from sklearn.ensemble import RandomForestClassifier\n",
    "from sklearn.ensemble import AdaBoostClassifier\n",
    "from sklearn.neural_network import MLPClassifier\n"
   ]
  },
  {
   "cell_type": "code",
   "execution_count": 5,
   "metadata": {},
   "outputs": [
    {
     "name": "stdout",
     "output_type": "stream",
     "text": [
      "Test Score, Decision Tree :  0.894736842105\n"
     ]
    }
   ],
   "source": [
    "iris = load_iris()\n",
    "X_train, X_test, Y_train, Y_test = train_test_split(iris['data'],iris['target'],random_state=0)\n",
    "DecisionTree=DecisionTreeClassifier(random_state=0,max_depth=2)\n",
    "model1=DecisionTree.fit(X_train,Y_train)\n",
    "score1=model1.score(X_test,Y_test)\n",
    "print(\"Test Score, Decision Tree : \",score1)"
   ]
  },
  {
   "cell_type": "code",
   "execution_count": 6,
   "metadata": {},
   "outputs": [
    {
     "name": "stdout",
     "output_type": "stream",
     "text": [
      "Test Score, Random Forest :  0.947368421053\n"
     ]
    }
   ],
   "source": [
    "RandomForest= RandomForestClassifier (n_estimators=4, max_features=2, max_depth=2, random_state=0)\n",
    "model2=R_Forest.fit(X_train,Y_train)\n",
    "score2=model2.score(X_test,Y_test)\n",
    "print(\"Test Score, Random Forest : \",score2)"
   ]
  },
  {
   "cell_type": "code",
   "execution_count": 8,
   "metadata": {},
   "outputs": [
    {
     "name": "stdout",
     "output_type": "stream",
     "text": [
      "Test Score, ADA Boost :  0.973684210526\n"
     ]
    }
   ],
   "source": [
    "Ada_Boost= AdaBoostClassifier(n_estimators=4, random_state=0)\n",
    "model3=Ada_Boost.fit(X_train,Y_train)\n",
    "score3=model3.score(X_test,Y_test)\n",
    "print(\"Test Score, ADA Boost : \",score3)"
   ]
  },
  {
   "cell_type": "markdown",
   "metadata": {},
   "source": [
    "ADA boost gives accuracy of 0.973684210526 which is the best accuracy when compared to the other models for IRIS dataset for different petal and sepal lengths."
   ]
  },
  {
   "cell_type": "code",
   "execution_count": null,
   "metadata": {
    "collapsed": true
   },
   "outputs": [],
   "source": []
  }
 ],
 "metadata": {
  "kernelspec": {
   "display_name": "Python 3",
   "language": "python",
   "name": "python3"
  },
  "language_info": {
   "codemirror_mode": {
    "name": "ipython",
    "version": 3
   },
   "file_extension": ".py",
   "mimetype": "text/x-python",
   "name": "python",
   "nbconvert_exporter": "python",
   "pygments_lexer": "ipython3",
   "version": "3.6.1"
  }
 },
 "nbformat": 4,
 "nbformat_minor": 2
}
