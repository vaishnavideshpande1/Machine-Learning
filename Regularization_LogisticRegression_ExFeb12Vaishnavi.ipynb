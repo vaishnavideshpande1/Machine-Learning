{
 "cells": [
  {
   "cell_type": "markdown",
   "metadata": {},
   "source": [
    "# Part 1: Regularization\n",
    "\n",
    "A) Use the Boston dataset, and use Ridge regression model with tuning parameter set to 100 (alpha =100). Find the $R^2$ score and number of non zero coefficients.\n",
    "\n",
    "B) Use Lasso regression instead of Ridge regression, also set the tuning parameter to 100. Find the $R^2$ score and number of non zero coefficients.\n",
    "\n",
    "C) Change the tuning parameter of the Lasso model to a very low value (alpha =0.001). What is the $R^2$ score.\n",
    "\n",
    "D) Comment on your result. In this problem, do all feature seem important in making predictions?"
   ]
  },
  {
   "cell_type": "code",
   "execution_count": 2,
   "metadata": {},
   "outputs": [
    {
     "name": "stdout",
     "output_type": "stream",
     "text": [
      "0.635362078667\n"
     ]
    }
   ],
   "source": [
    "from sklearn.datasets import load_boston\n",
    "from sklearn.linear_model import Ridge \n",
    "from sklearn.model_selection import train_test_split\n",
    "from sklearn.linear_model import LinearRegression\n",
    "from sklearn.linear_model import Ridge \n",
    "from sklearn.linear_model import Lasso\n",
    "import numpy as np\n",
    "\n",
    "dataset = load_boston()\n",
    "X=dataset.data\n",
    "Y=dataset.target\n",
    "X_train, X_test, Y_train, Y_test= train_test_split(X, Y, random_state= 0)\n",
    "linreg= LinearRegression().fit(X_train, Y_train)\n",
    "R2 = linreg.score(X_test,Y_test)\n",
    "print(R2)\n",
    "\n",
    "\n"
   ]
  },
  {
   "cell_type": "code",
   "execution_count": 3,
   "metadata": {},
   "outputs": [
    {
     "name": "stdout",
     "output_type": "stream",
     "text": [
      "0.626511622377\n"
     ]
    }
   ],
   "source": [
    "RidgeModel=Ridge( ).fit(X_train, Y_train)\n",
    "ridge_R2 = RidgeModel.score(X_test,Y_test)\n",
    "print(ridge_R2)"
   ]
  },
  {
   "cell_type": "code",
   "execution_count": 4,
   "metadata": {},
   "outputs": [
    {
     "name": "stdout",
     "output_type": "stream",
     "text": [
      "0.592535803616\n"
     ]
    }
   ],
   "source": [
    "RidgeModel100=Ridge(alpha=100).fit(X_train, Y_train)\n",
    "RidgeModel100.score(X_test,Y_test)\n",
    "ridge100_R2 = RidgeModel100.score(X_test,Y_test)\n",
    "print(ridge100_R2)"
   ]
  },
  {
   "cell_type": "code",
   "execution_count": 11,
   "metadata": {},
   "outputs": [
    {
     "name": "stdout",
     "output_type": "stream",
     "text": [
      "0.551511093619\n",
      "2\n"
     ]
    }
   ],
   "source": [
    "lassoModel=Lasso( ).fit(X_train, Y_train)\n",
    "lasso_1 = lassoModel.score(X_test,Y_test)\n",
    "print(lasso_1)\n",
    "coeff = np.sum(lassoModel.coef_==0)\n",
    "print(coeff)\n",
    "##Ridgeregression with alpha=1 provides better performance than linear regression\n"
   ]
  },
  {
   "cell_type": "code",
   "execution_count": 12,
   "metadata": {},
   "outputs": [
    {
     "name": "stdout",
     "output_type": "stream",
     "text": [
      "0.118669161755\n",
      "11\n"
     ]
    }
   ],
   "source": [
    "lassoModel100=Lasso(alpha=100).fit(X_train, Y_train)\n",
    "lasso_100 = lassoModel100.score(X_test,Y_test)\n",
    "print(lasso_100)\n",
    "coeff100 = np.sum(lassoModel100.coef_==0)\n",
    "print(coeff100)"
   ]
  },
  {
   "cell_type": "code",
   "execution_count": 13,
   "metadata": {},
   "outputs": [
    {
     "name": "stdout",
     "output_type": "stream",
     "text": [
      "0.63159135839\n",
      "0\n"
     ]
    }
   ],
   "source": [
    "lassoModel_0_01=Lasso(alpha=0.01).fit(X_train, Y_train)\n",
    "lasso_0_01= lassoModel_0_01.score(X_test,Y_test)\n",
    "print(lasso_0_01)\n",
    "coeff_0_01 = np.sum(lassoModel_0_01.coef_==0)\n",
    "print(coeff_0_01)"
   ]
  },
  {
   "cell_type": "code",
   "execution_count": null,
   "metadata": {
    "collapsed": true
   },
   "outputs": [],
   "source": [
    "## Tuning parameter might be too high for this dataset and model might be a a underfit. So, we got low R2."
   ]
  },
  {
   "cell_type": "code",
   "execution_count": null,
   "metadata": {
    "collapsed": true
   },
   "outputs": [],
   "source": [
    "##Ridge regression with alpha =1 provides better performance than linear regression\n",
    "## since more weight is given to shrinking the magnitude of the coefficients than to lower the error in fitting , Increasing the regularization strength, results in higher errors \n",
    "##Using Lasso with different tuning parameters, we can clearly see that most features are relevant and discarding most of them will result in a very poor performance"
   ]
  },
  {
   "cell_type": "markdown",
   "metadata": {},
   "source": [
    "# Part 2: Logistic Regression\n",
    "\n",
    "In this exercise, you will use logistic regression to classify breast cancer as malignant or benign using the sklearn data set. Run the code below to print and read the description of the data set. Use logistic regression, with Lasso regularization (penelty =l1) and the default regularization parameter to build the classifier. What is the accuracy?\n"
   ]
  },
  {
   "cell_type": "code",
   "execution_count": 3,
   "metadata": {},
   "outputs": [
    {
     "name": "stdout",
     "output_type": "stream",
     "text": [
      "dict_keys(['data', 'target', 'target_names', 'DESCR', 'feature_names'])\n",
      "Breast Cancer Wisconsin (Diagnostic) Database\n",
      "=============================================\n",
      "\n",
      "Notes\n",
      "-----\n",
      "Data Set Characteristics:\n",
      "    :Number of Instances: 569\n",
      "\n",
      "    :Number of Attributes: 30 numeric, predictive attributes and the class\n",
      "\n",
      "    :Attribute Information:\n",
      "        - radius (mean of distances from center to points on the perimeter)\n",
      "        - texture (standard deviation of gray-scale values)\n",
      "        - perimeter\n",
      "        - area\n",
      "        - smoothness (local variation in radius lengths)\n",
      "        - compactness (perimeter^2 / area - 1.0)\n",
      "        - concavity (severity of concave portions of the contour)\n",
      "        - concave points (number of concave portions of the contour)\n",
      "        - symmetry \n",
      "        - fractal dimension (\"coastline approximation\" - 1)\n",
      "\n",
      "        The mean, standard error, and \"worst\" or largest (mean of the three\n",
      "        largest values) of these features were computed for each image,\n",
      "        resulting in 30 features.  For instance, field 3 is Mean Radius, field\n",
      "        13 is Radius SE, field 23 is Worst Radius.\n",
      "\n",
      "        - class:\n",
      "                - WDBC-Malignant\n",
      "                - WDBC-Benign\n",
      "\n",
      "    :Summary Statistics:\n",
      "\n",
      "    ===================================== ====== ======\n",
      "                                           Min    Max\n",
      "    ===================================== ====== ======\n",
      "    radius (mean):                        6.981  28.11\n",
      "    texture (mean):                       9.71   39.28\n",
      "    perimeter (mean):                     43.79  188.5\n",
      "    area (mean):                          143.5  2501.0\n",
      "    smoothness (mean):                    0.053  0.163\n",
      "    compactness (mean):                   0.019  0.345\n",
      "    concavity (mean):                     0.0    0.427\n",
      "    concave points (mean):                0.0    0.201\n",
      "    symmetry (mean):                      0.106  0.304\n",
      "    fractal dimension (mean):             0.05   0.097\n",
      "    radius (standard error):              0.112  2.873\n",
      "    texture (standard error):             0.36   4.885\n",
      "    perimeter (standard error):           0.757  21.98\n",
      "    area (standard error):                6.802  542.2\n",
      "    smoothness (standard error):          0.002  0.031\n",
      "    compactness (standard error):         0.002  0.135\n",
      "    concavity (standard error):           0.0    0.396\n",
      "    concave points (standard error):      0.0    0.053\n",
      "    symmetry (standard error):            0.008  0.079\n",
      "    fractal dimension (standard error):   0.001  0.03\n",
      "    radius (worst):                       7.93   36.04\n",
      "    texture (worst):                      12.02  49.54\n",
      "    perimeter (worst):                    50.41  251.2\n",
      "    area (worst):                         185.2  4254.0\n",
      "    smoothness (worst):                   0.071  0.223\n",
      "    compactness (worst):                  0.027  1.058\n",
      "    concavity (worst):                    0.0    1.252\n",
      "    concave points (worst):               0.0    0.291\n",
      "    symmetry (worst):                     0.156  0.664\n",
      "    fractal dimension (worst):            0.055  0.208\n",
      "    ===================================== ====== ======\n",
      "\n",
      "    :Missing Attribute Values: None\n",
      "\n",
      "    :Class Distribution: 212 - Malignant, 357 - Benign\n",
      "\n",
      "    :Creator:  Dr. William H. Wolberg, W. Nick Street, Olvi L. Mangasarian\n",
      "\n",
      "    :Donor: Nick Street\n",
      "\n",
      "    :Date: November, 1995\n",
      "\n",
      "This is a copy of UCI ML Breast Cancer Wisconsin (Diagnostic) datasets.\n",
      "https://goo.gl/U2Uwz2\n",
      "\n",
      "Features are computed from a digitized image of a fine needle\n",
      "aspirate (FNA) of a breast mass.  They describe\n",
      "characteristics of the cell nuclei present in the image.\n",
      "\n",
      "Separating plane described above was obtained using\n",
      "Multisurface Method-Tree (MSM-T) [K. P. Bennett, \"Decision Tree\n",
      "Construction Via Linear Programming.\" Proceedings of the 4th\n",
      "Midwest Artificial Intelligence and Cognitive Science Society,\n",
      "pp. 97-101, 1992], a classification method which uses linear\n",
      "programming to construct a decision tree.  Relevant features\n",
      "were selected using an exhaustive search in the space of 1-4\n",
      "features and 1-3 separating planes.\n",
      "\n",
      "The actual linear program used to obtain the separating plane\n",
      "in the 3-dimensional space is that described in:\n",
      "[K. P. Bennett and O. L. Mangasarian: \"Robust Linear\n",
      "Programming Discrimination of Two Linearly Inseparable Sets\",\n",
      "Optimization Methods and Software 1, 1992, 23-34].\n",
      "\n",
      "This database is also available through the UW CS ftp server:\n",
      "\n",
      "ftp ftp.cs.wisc.edu\n",
      "cd math-prog/cpo-dataset/machine-learn/WDBC/\n",
      "\n",
      "References\n",
      "----------\n",
      "   - W.N. Street, W.H. Wolberg and O.L. Mangasarian. Nuclear feature extraction \n",
      "     for breast tumor diagnosis. IS&T/SPIE 1993 International Symposium on \n",
      "     Electronic Imaging: Science and Technology, volume 1905, pages 861-870,\n",
      "     San Jose, CA, 1993.\n",
      "   - O.L. Mangasarian, W.N. Street and W.H. Wolberg. Breast cancer diagnosis and \n",
      "     prognosis via linear programming. Operations Research, 43(4), pages 570-577, \n",
      "     July-August 1995.\n",
      "   - W.H. Wolberg, W.N. Street, and O.L. Mangasarian. Machine learning techniques\n",
      "     to diagnose breast cancer from fine-needle aspirates. Cancer Letters 77 (1994) \n",
      "     163-171.\n",
      "\n"
     ]
    }
   ],
   "source": [
    "from sklearn.linear_model import LogisticRegression\n",
    "from sklearn.datasets import load_breast_cancer\n",
    "from sklearn.model_selection import train_test_split\n",
    "from sklearn import preprocessing\n",
    "from sklearn.discriminant_analysis import LinearDiscriminantAnalysis\n",
    "from sklearn.discriminant_analysis import QuadraticDiscriminantAnalysis\n",
    "import numpy as np\n",
    "\n",
    "DataCancer=load_breast_cancer()\n",
    "print(DataCancer.keys())\n",
    "print(DataCancer.DESCR)\n",
    "\n",
    "X_features=DataCancer.data\n",
    "Y_targetClass=DataCancer.target\n",
    "\n",
    "X_train, X_test, Y_train, Y_test= train_test_split(X_features, Y_targetClass, random_state= 0)\n",
    "\n"
   ]
  },
  {
   "cell_type": "code",
   "execution_count": 4,
   "metadata": {},
   "outputs": [
    {
     "name": "stdout",
     "output_type": "stream",
     "text": [
      "0.958041958042\n",
      "0.965034965035\n"
     ]
    }
   ],
   "source": [
    "\n",
    "#C=1\n",
    "FittedLogRegModel1= LogisticRegression(C=1).fit(X_train,Y_train)\n",
    "score1 = FittedLogRegModel1.score(X_test, Y_test)\n",
    "print(score1)\n",
    "\n",
    "#C=1000\n",
    "FittedLogRegModel1000= LogisticRegression(C=1000).fit(X_train,Y_train)\n",
    "score1000 = FittedLogRegModel1000.score(X_test, Y_test)\n",
    "print(score1000)"
   ]
  },
  {
   "cell_type": "code",
   "execution_count": 5,
   "metadata": {
    "collapsed": true
   },
   "outputs": [],
   "source": [
    "scaler=preprocessing.MinMaxScaler().fit(X_train) #define scaler depending on the features in training data\n",
    "X_train_transformed=scaler.transform(X_train) #apply scaling on training set\n",
    "X_test_transformed=scaler.transform(X_test)"
   ]
  },
  {
   "cell_type": "code",
   "execution_count": 6,
   "metadata": {},
   "outputs": [
    {
     "name": "stdout",
     "output_type": "stream",
     "text": [
      "0.958041958042\n",
      "0.951048951049\n"
     ]
    }
   ],
   "source": [
    "##2\n",
    "\n",
    "#C=1\n",
    "FittedLogRegModel1= LogisticRegression(C=1).fit(X_train_transformed,Y_train)\n",
    "score1 = FittedLogRegModel1.score(X_test_transformed, Y_test)\n",
    "print(score1)\n",
    "\n",
    "#C=1000\n",
    "FittedLogRegModel1000= LogisticRegression(C=1000).fit(X_train_transformed,Y_train)\n",
    "score1000 = FittedLogRegModel1000.score(X_test_transformed, Y_test)\n",
    "print(score1000)"
   ]
  },
  {
   "cell_type": "code",
   "execution_count": 7,
   "metadata": {},
   "outputs": [
    {
     "name": "stdout",
     "output_type": "stream",
     "text": [
      "[[  8.07579955e-01   1.92420045e-01]\n",
      " [  1.59728398e-01   8.40271602e-01]\n",
      " [  1.01589156e-01   8.98410844e-01]\n",
      " [  1.77849057e-01   8.22150943e-01]\n",
      " [  4.57880756e-02   9.54211924e-01]\n",
      " [  7.90294796e-02   9.20970520e-01]\n",
      " [  1.09865111e-01   8.90134889e-01]\n",
      " [  5.44324296e-02   9.45567570e-01]\n",
      " [  1.01915806e-02   9.89808419e-01]\n",
      " [  9.13914410e-03   9.90860856e-01]\n",
      " [  3.08242732e-01   6.91757268e-01]\n",
      " [  2.14828517e-01   7.85171483e-01]\n",
      " [  2.07421603e-02   9.79257840e-01]\n",
      " [  3.78332022e-01   6.21667978e-01]\n",
      " [  4.13296200e-01   5.86703800e-01]\n",
      " [  8.38513672e-01   1.61486328e-01]\n",
      " [  7.93702870e-02   9.20629713e-01]\n",
      " [  9.73939114e-01   2.60608863e-02]\n",
      " [  9.10126230e-01   8.98737697e-02]\n",
      " [  9.95144762e-01   4.85523808e-03]\n",
      " [  6.90776290e-01   3.09223710e-01]\n",
      " [  8.59164043e-01   1.40835957e-01]\n",
      " [  2.27405761e-01   7.72594239e-01]\n",
      " [  7.54715752e-02   9.24528425e-01]\n",
      " [  9.57565248e-01   4.24347520e-02]\n",
      " [  6.90475491e-02   9.30952451e-01]\n",
      " [  2.70732585e-02   9.72926742e-01]\n",
      " [  8.64371386e-01   1.35628614e-01]\n",
      " [  1.02711683e-01   8.97288317e-01]\n",
      " [  9.62949973e-01   3.70500269e-02]\n",
      " [  2.69445761e-02   9.73055424e-01]\n",
      " [  9.26141455e-01   7.38585452e-02]\n",
      " [  3.47861252e-01   6.52138748e-01]\n",
      " [  7.77247065e-01   2.22752935e-01]\n",
      " [  8.78096128e-03   9.91219039e-01]\n",
      " [  7.50976090e-01   2.49023910e-01]\n",
      " [  1.57853511e-01   8.42146489e-01]\n",
      " [  8.30397142e-01   1.69602858e-01]\n",
      " [  1.59345978e-01   8.40654022e-01]\n",
      " [  7.47213372e-01   2.52786628e-01]\n",
      " [  3.78089488e-01   6.21910512e-01]\n",
      " [  1.69566966e-02   9.83043303e-01]\n",
      " [  5.16491991e-01   4.83508009e-01]\n",
      " [  2.06026182e-02   9.79397382e-01]\n",
      " [  4.04585834e-01   5.95414166e-01]\n",
      " [  9.93853138e-01   6.14686231e-03]\n",
      " [  5.49563487e-03   9.94504365e-01]\n",
      " [  1.40713871e-01   8.59286129e-01]\n",
      " [  4.48382581e-02   9.55161742e-01]\n",
      " [  9.14550593e-01   8.54494066e-02]\n",
      " [  9.28399061e-01   7.16009395e-02]\n",
      " [  7.48530188e-01   2.51469812e-01]\n",
      " [  9.10719474e-01   8.92805262e-02]\n",
      " [  8.58265507e-02   9.14173449e-01]\n",
      " [  9.68903399e-02   9.03109660e-01]\n",
      " [  4.91968493e-02   9.50803151e-01]\n",
      " [  6.12721146e-02   9.38727885e-01]\n",
      " [  4.61509281e-02   9.53849072e-01]\n",
      " [  1.07381071e-01   8.92618929e-01]\n",
      " [  9.95570145e-01   4.42985462e-03]\n",
      " [  6.27974183e-01   3.72025817e-01]\n",
      " [  7.53803824e-01   2.46196176e-01]\n",
      " [  2.37203723e-02   9.76279628e-01]\n",
      " [  8.86751879e-02   9.11324812e-01]\n",
      " [  9.42709341e-01   5.72906594e-02]\n",
      " [  1.19723343e-01   8.80276657e-01]\n",
      " [  9.99781323e-01   2.18676553e-04]\n",
      " [  9.78813768e-01   2.11862319e-02]\n",
      " [  9.70982880e-01   2.90171199e-02]\n",
      " [  3.43699818e-02   9.65630018e-01]\n",
      " [  4.09956682e-01   5.90043318e-01]\n",
      " [  9.53856780e-01   4.61432196e-02]\n",
      " [  8.52559420e-02   9.14744058e-01]\n",
      " [  4.77764684e-01   5.22235316e-01]\n",
      " [  9.81268997e-01   1.87310028e-02]\n",
      " [  1.29751358e-01   8.70248642e-01]\n",
      " [  2.42493070e-02   9.75750693e-01]\n",
      " [  2.26517841e-01   7.73482159e-01]\n",
      " [  3.90501175e-02   9.60949883e-01]\n",
      " [  7.60609997e-03   9.92393900e-01]\n",
      " [  7.49956001e-01   2.50043999e-01]\n",
      " [  9.97300180e-01   2.69981964e-03]\n",
      " [  9.50674521e-01   4.93254795e-02]\n",
      " [  2.44714651e-02   9.75528535e-01]\n",
      " [  8.06498245e-01   1.93501755e-01]\n",
      " [  7.79138807e-02   9.22086119e-01]\n",
      " [  3.93551823e-02   9.60644818e-01]\n",
      " [  1.14040410e-02   9.88595959e-01]\n",
      " [  9.17869015e-01   8.21309850e-02]\n",
      " [  9.99428705e-01   5.71295320e-04]\n",
      " [  1.56569802e-02   9.84343020e-01]\n",
      " [  4.89183969e-01   5.10816031e-01]\n",
      " [  4.95378305e-01   5.04621695e-01]\n",
      " [  9.85533460e-01   1.44665398e-02]\n",
      " [  2.43209679e-02   9.75679032e-01]\n",
      " [  8.69114350e-02   9.13088565e-01]\n",
      " [  9.66277362e-01   3.37226384e-02]\n",
      " [  3.91014290e-01   6.08985710e-01]\n",
      " [  8.88153038e-02   9.11184696e-01]\n",
      " [  5.25812088e-02   9.47418791e-01]\n",
      " [  4.36978530e-03   9.95630215e-01]\n",
      " [  1.19344566e-01   8.80655434e-01]\n",
      " [  1.44288314e-01   8.55711686e-01]\n",
      " [  2.81549675e-01   7.18450325e-01]\n",
      " [  9.27455846e-01   7.25441542e-02]\n",
      " [  3.55794407e-02   9.64420559e-01]\n",
      " [  9.87294801e-01   1.27051986e-02]\n",
      " [  2.23028068e-01   7.76971932e-01]\n",
      " [  3.87905693e-01   6.12094307e-01]\n",
      " [  2.45353685e-01   7.54646315e-01]\n",
      " [  1.20175966e-01   8.79824034e-01]\n",
      " [  9.72557646e-01   2.74423542e-02]\n",
      " [  9.21889002e-01   7.81109982e-02]\n",
      " [  3.05990701e-01   6.94009299e-01]\n",
      " [  4.16292217e-02   9.58370778e-01]\n",
      " [  9.86677152e-02   9.01332285e-01]\n",
      " [  3.50496374e-01   6.49503626e-01]\n",
      " [  4.50915146e-02   9.54908485e-01]\n",
      " [  1.24859993e-01   8.75140007e-01]\n",
      " [  1.45234221e-01   8.54765779e-01]\n",
      " [  5.75886264e-02   9.42411374e-01]\n",
      " [  7.00000652e-02   9.29999935e-01]\n",
      " [  7.33285105e-01   2.66714895e-01]\n",
      " [  1.60304938e-01   8.39695062e-01]\n",
      " [  9.85354131e-01   1.46458694e-02]\n",
      " [  2.08165063e-01   7.91834937e-01]\n",
      " [  2.81175585e-01   7.18824415e-01]\n",
      " [  5.29103746e-02   9.47089625e-01]\n",
      " [  3.47501591e-02   9.65249841e-01]\n",
      " [  1.70153367e-02   9.82984663e-01]\n",
      " [  8.48821522e-01   1.51178478e-01]\n",
      " [  1.61323949e-02   9.83867605e-01]\n",
      " [  4.58005156e-02   9.54199484e-01]\n",
      " [  3.58973887e-01   6.41026113e-01]\n",
      " [  2.15175404e-01   7.84824596e-01]\n",
      " [  2.72056330e-02   9.72794367e-01]\n",
      " [  3.46511013e-01   6.53488987e-01]\n",
      " [  4.42314920e-01   5.57685080e-01]\n",
      " [  9.99246087e-01   7.53913455e-04]\n",
      " [  2.61349089e-02   9.73865091e-01]\n",
      " [  1.19490038e-01   8.80509962e-01]\n",
      " [  6.78022647e-02   9.32197735e-01]\n",
      " [  9.95660508e-01   4.33949163e-03]]\n"
     ]
    }
   ],
   "source": [
    "Probabilities=FittedLogRegModel1.predict_proba(X_test_transformed)\n",
    "print(Probabilities)\n",
    "\n",
    "#sum of probabilites in each row is equal to 1"
   ]
  },
  {
   "cell_type": "code",
   "execution_count": 8,
   "metadata": {},
   "outputs": [
    {
     "name": "stdout",
     "output_type": "stream",
     "text": [
      "0.972027972028\n"
     ]
    }
   ],
   "source": [
    "\n",
    "LDAmodelFitted = LinearDiscriminantAnalysis().fit(X_train_transformed, Y_train)\n",
    "print(LDAmodelFitted.score(X_test_transformed, Y_test))"
   ]
  },
  {
   "cell_type": "code",
   "execution_count": 9,
   "metadata": {},
   "outputs": [
    {
     "name": "stdout",
     "output_type": "stream",
     "text": [
      "0.958041958042\n"
     ]
    }
   ],
   "source": [
    "\n",
    "QDAmodelFitted = QuadraticDiscriminantAnalysis().fit(X_train_transformed, Y_train)\n",
    "print(QDAmodelFitted.score(X_test_transformed, Y_test))"
   ]
  }
 ],
 "metadata": {
  "kernelspec": {
   "display_name": "Python 3",
   "language": "python",
   "name": "python3"
  },
  "language_info": {
   "codemirror_mode": {
    "name": "ipython",
    "version": 3
   },
   "file_extension": ".py",
   "mimetype": "text/x-python",
   "name": "python",
   "nbconvert_exporter": "python",
   "pygments_lexer": "ipython3",
   "version": "3.6.1"
  }
 },
 "nbformat": 4,
 "nbformat_minor": 2
}
